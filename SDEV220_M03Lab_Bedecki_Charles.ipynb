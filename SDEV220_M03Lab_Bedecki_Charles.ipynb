{
 "cells": [
  {
   "cell_type": "code",
   "execution_count": 1,
   "id": "7994560e",
   "metadata": {},
   "outputs": [
    {
     "name": "stdout",
     "output_type": "stream",
     "text": [
      "Enter the vehicle type: Crossover\n",
      "Enter the year: 2019\n",
      "Enter the make: Mazda\n",
      "Enter the model: CX5\n",
      "Enter the number of doors (2 or 4): 4\n",
      "Enter the type of roof (solid or sun roof): Sun Roof\n",
      "Vehicle Type: Crossover\n",
      "Year: 2019\n",
      "Make: Mazda\n",
      "Model: CX5\n",
      "Number of doors: 4\n",
      "Type of roof: Sun Roof\n"
     ]
    }
   ],
   "source": [
    "#SDEV220 M03 Lab\n",
    "#Charles Bedecki\n",
    "#10/4/2022\n",
    "#Write a Python app that has the following classes:\n",
    "#A super class called Vehicle, which contains an attribute for vehicle type, such as car, truck, plane, boat, or a broomstick.\n",
    "#A class called Automobile which will inherit the attributes from Vehicle and also contain the following attributes:\n",
    "#year, make, mdoel, doors, roof\n",
    "\n",
    "\n",
    "class Vehicle: # vehicle class with constructor\n",
    "    def __init__(self, type):  # type constructor for vehicle type using _init_ method/initializing attributes\n",
    "        self.type = type\n",
    "\n",
    "class Automobile(Vehicle):  # Automobile class that inherits Vehicle attributes. See (Vehicle)\n",
    "    def __init__(self, type, year, make, model, numberDoors, roofType): # _init_ method initializing attributes\n",
    "        super().__init__(type)  # calling super class\n",
    "        self.year = year\n",
    "        self.make = make\n",
    "        self.model = model\n",
    "        self.numberDoors = numberDoors\n",
    "        self.roofType = roofType\n",
    "\n",
    "type_i = input(\"Enter the vehicle type: \") # start of prompts for user inputed values\n",
    "year_i = input(\"Enter the year: \")\n",
    "make_i = input(\"Enter the make: \")\n",
    "model_i = input(\"Enter the model: \")\n",
    "numberDoors_i = input(\"Enter the number of doors (2 or 4): \")\n",
    "roofType_i = input(\"Enter the type of roof (solid or sun roof): \")\n",
    "\n",
    "A = Automobile(type_i, year_i, make_i, model_i, numberDoors_i, roofType_i) # calling the constuctor with all of the user inputed values\n",
    "\n",
    "print(\"Vehicle Type: \"+A.type) # start of the output/print statements for the vehicles details\n",
    "print(\"Year: \"+A.year)\n",
    "print(\"Make: \"+A.make)\n",
    "print(\"Model: \"+A.model)\n",
    "print(\"Number of doors: \"+A.numberDoors)\n",
    "print(\"Type of roof: \"+A.roofType)"
   ]
  },
  {
   "cell_type": "code",
   "execution_count": null,
   "id": "e186ad9f",
   "metadata": {},
   "outputs": [],
   "source": []
  }
 ],
 "metadata": {
  "kernelspec": {
   "display_name": "Python 3 (ipykernel)",
   "language": "python",
   "name": "python3"
  },
  "language_info": {
   "codemirror_mode": {
    "name": "ipython",
    "version": 3
   },
   "file_extension": ".py",
   "mimetype": "text/x-python",
   "name": "python",
   "nbconvert_exporter": "python",
   "pygments_lexer": "ipython3",
   "version": "3.9.12"
  }
 },
 "nbformat": 4,
 "nbformat_minor": 5
}
